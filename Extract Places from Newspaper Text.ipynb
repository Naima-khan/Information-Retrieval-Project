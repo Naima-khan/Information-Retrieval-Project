{
 "cells": [
  {
   "cell_type": "code",
   "execution_count": null,
   "metadata": {},
   "outputs": [],
   "source": [
    "import glob\n",
    "import geograpy\n",
    "from textblob import TextBlob"
   ]
  },
  {
   "cell_type": "code",
   "execution_count": null,
   "metadata": {},
   "outputs": [],
   "source": [
    "def get_accidents_info(fname):\n",
    "\n",
    "    F1=open(fname,'r')\n",
    "    text = F1.read()    #File read\n",
    "    text = str(text)\n",
    "    blob=TextBlob(text) #creating textblob with file text\n",
    "    phrases= (blob.noun_phrases)\n",
    "    non_redundent_phrases=[]\n",
    "    for p in phrases:\n",
    "        count=blob.noun_phrases.count(p)\n",
    "        if(non_redundent_phrases.count(p)==0):\n",
    "            non_redundent_phrases.append(p)\n",
    "\n",
    "    places= get_place_names(text)\n",
    "\n",
    "    info=[fname, non_redundent_phrases, places]\n",
    "    F1.close()\n",
    "\n",
    "    return info\n",
    "\n",
    "def get_place_names(text):\n",
    "\n",
    "    places= geograpy.get_place_context(text=text)\n",
    "\n",
    "    print(\"## Regions: \",places.regions,\"\\n\")\n",
    "    print(\"## Cities: \",places.cities,\"\\n\") \n",
    "    print(\"## Country: \",places.country,\"\\n\")\n",
    "    print(\"## Country Regions: \",places.country_regions,\"\\n\")\n",
    "    print(\"## Country Cities: \",places.country_cities,\"\\n\")\n",
    "    print(\"## Address Strings: \",places.address_strings,\"\\n\")\n",
    "    print(\"## Other: \",places.other,\"\\n\")\n",
    "   \n",
    "   \n",
    "    return places\n",
    "\n",
    "\n",
    "\n"
   ]
  },
  {
   "cell_type": "code",
   "execution_count": null,
   "metadata": {},
   "outputs": [],
   "source": [
    "## main\n",
    "list_of_files = glob.glob('Texts/*.txt')           # create the list of file\n",
    "i=1\n",
    "\n",
    "f=[]\n",
    "phrases=[]\n",
    "places=[]\n",
    "for file_name in list_of_files:\n",
    "    print('******************************************************************')\n",
    "    print('File #{}::{}'.format(i,file_name))\n",
    "\n",
    "    info=get_accidents_info(file_name)\n",
    "\n",
    "    f.append(info[0])\n",
    "    phrases.append(info[1])\n",
    "    places.append(info[2])\n",
    "    print('******************************************************************')\n",
    "    i=i+1\n",
    "\n",
    "print (\"Final Places: \",places)"
   ]
  },
  {
   "cell_type": "code",
   "execution_count": null,
   "metadata": {},
   "outputs": [],
   "source": []
  }
 ],
 "metadata": {
  "kernelspec": {
   "display_name": "Python 3",
   "language": "python",
   "name": "python3"
  },
  "language_info": {
   "codemirror_mode": {
    "name": "ipython",
    "version": 3
   },
   "file_extension": ".py",
   "mimetype": "text/x-python",
   "name": "python",
   "nbconvert_exporter": "python",
   "pygments_lexer": "ipython3",
   "version": "3.6.3"
  }
 },
 "nbformat": 4,
 "nbformat_minor": 2
}
